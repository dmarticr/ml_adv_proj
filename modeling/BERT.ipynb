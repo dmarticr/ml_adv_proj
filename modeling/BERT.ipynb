{
  "cells": [
    {
      "attachments": {},
      "cell_type": "markdown",
      "metadata": {
        "id": "a-PwudBaOpYK"
      },
      "source": [
        "## BERT Classifier using ktrain package"
      ]
    },
    {
      "cell_type": "code",
      "execution_count": 1,
      "metadata": {
        "id": "TjjFr4kfOpYO"
      },
      "outputs": [],
      "source": [
        "import warnings\n",
        "# warnings.filterwarnings('ignore')\n",
        "\n",
        "import pandas as pd\n",
        "import numpy as np\n",
        "import re\n",
        "\n",
        "from sklearn import preprocessing\n",
        "from sklearn.model_selection import train_test_split\n",
        "\n",
        "import tensorflow as tf\n",
        "from keras.preprocessing.text import Tokenizer, text_to_word_sequence"
      ]
    },
    {
      "attachments": {},
      "cell_type": "markdown",
      "metadata": {
        "id": "BpPcE9-wOpYO"
      },
      "source": [
        "#### Check for GPU presence"
      ]
    },
    {
      "cell_type": "code",
      "execution_count": 2,
      "metadata": {
        "colab": {
          "base_uri": "https://localhost:8080/"
        },
        "id": "_f5xtxSIOpYP",
        "outputId": "140a5d6f-b660-4b1c-e80c-4a0d4f108ad6"
      },
      "outputs": [
        {
          "data": {
            "text/plain": [
              "[PhysicalDevice(name='/physical_device:CPU:0', device_type='CPU'),\n",
              " PhysicalDevice(name='/physical_device:GPU:0', device_type='GPU')]"
            ]
          },
          "execution_count": 2,
          "metadata": {},
          "output_type": "execute_result"
        }
      ],
      "source": [
        "#Verify we got CPU + GPU or only CPU\n",
        "tf.config.list_physical_devices()"
      ]
    },
    {
      "cell_type": "code",
      "execution_count": 3,
      "metadata": {
        "colab": {
          "base_uri": "https://localhost:8080/"
        },
        "id": "WThh86vlOpYP",
        "outputId": "1ad47976-b988-4f15-c03e-7baf87438ffd"
      },
      "outputs": [
        {
          "name": "stdout",
          "output_type": "stream",
          "text": [
            "Sat May 20 17:41:35 2023       \n",
            "+-----------------------------------------------------------------------------+\n",
            "| NVIDIA-SMI 525.85.12    Driver Version: 525.85.12    CUDA Version: 12.0     |\n",
            "|-------------------------------+----------------------+----------------------+\n",
            "| GPU  Name        Persistence-M| Bus-Id        Disp.A | Volatile Uncorr. ECC |\n",
            "| Fan  Temp  Perf  Pwr:Usage/Cap|         Memory-Usage | GPU-Util  Compute M. |\n",
            "|                               |                      |               MIG M. |\n",
            "|===============================+======================+======================|\n",
            "|   0  Tesla T4            Off  | 00000000:00:04.0 Off |                    0 |\n",
            "| N/A   52C    P8    10W /  70W |      3MiB / 15360MiB |      0%      Default |\n",
            "|                               |                      |                  N/A |\n",
            "+-------------------------------+----------------------+----------------------+\n",
            "                                                                               \n",
            "+-----------------------------------------------------------------------------+\n",
            "| Processes:                                                                  |\n",
            "|  GPU   GI   CI        PID   Type   Process name                  GPU Memory |\n",
            "|        ID   ID                                                   Usage      |\n",
            "|=============================================================================|\n",
            "|  No running processes found                                                 |\n",
            "+-----------------------------------------------------------------------------+\n"
          ]
        }
      ],
      "source": [
        "!nvidia-smi"
      ]
    },
    {
      "cell_type": "code",
      "execution_count": 3,
      "metadata": {
        "colab": {
          "base_uri": "https://localhost:8080/",
          "height": 36
        },
        "id": "sMvCJ7B0OpYQ",
        "outputId": "707cbcb3-9db1-4726-c827-9f721c484082"
      },
      "outputs": [
        {
          "data": {
            "application/vnd.google.colaboratory.intrinsic+json": {
              "type": "string"
            },
            "text/plain": [
              "'2.12.0'"
            ]
          },
          "execution_count": 3,
          "metadata": {},
          "output_type": "execute_result"
        }
      ],
      "source": [
        "tf.__version__"
      ]
    },
    {
      "cell_type": "code",
      "execution_count": null,
      "metadata": {
        "colab": {
          "base_uri": "https://localhost:8080/"
        },
        "id": "oM7tMc9BOpYQ",
        "outputId": "39a58443-1520-4b2d-c09e-a8bc22cbbab7"
      },
      "outputs": [],
      "source": [
        "#!pip install ktrain --upgrade"
      ]
    },
    {
      "cell_type": "code",
      "execution_count": 4,
      "metadata": {
        "id": "0qPNgAVwOpYQ"
      },
      "outputs": [],
      "source": [
        "# import ktrain\n",
        "import ktrain\n",
        "from ktrain import text"
      ]
    },
    {
      "attachments": {},
      "cell_type": "markdown",
      "metadata": {
        "id": "KeNZOxd0OpYR"
      },
      "source": [
        "#### Check available text classifiers in ktrain"
      ]
    },
    {
      "cell_type": "code",
      "execution_count": 5,
      "metadata": {
        "colab": {
          "base_uri": "https://localhost:8080/"
        },
        "id": "kHLw6BicOpYR",
        "outputId": "b072667b-c230-4aca-d755-19126e645583"
      },
      "outputs": [
        {
          "name": "stdout",
          "output_type": "stream",
          "text": [
            "fasttext: a fastText-like model [http://arxiv.org/pdf/1607.01759.pdf]\n",
            "logreg: logistic regression using a trainable Embedding layer\n",
            "nbsvm: NBSVM model [http://www.aclweb.org/anthology/P12-2018]\n",
            "bigru: Bidirectional GRU with pretrained fasttext word vectors [https://fasttext.cc/docs/en/crawl-vectors.html]\n",
            "standard_gru: simple 2-layer GRU with randomly initialized embeddings\n",
            "bert: Bidirectional Encoder Representations from Transformers (BERT) from keras_bert [https://arxiv.org/abs/1810.04805]\n",
            "distilbert: distilled, smaller, and faster BERT from Hugging Face transformers [https://arxiv.org/abs/1910.01108]\n"
          ]
        }
      ],
      "source": [
        "text.print_text_classifiers()"
      ]
    },
    {
      "attachments": {},
      "cell_type": "markdown",
      "metadata": {
        "id": "tzdqJ5MFOpYR"
      },
      "source": [
        "### Load Data"
      ]
    },
    {
      "cell_type": "code",
      "execution_count": 8,
      "metadata": {
        "colab": {
          "base_uri": "https://localhost:8080/",
          "height": 73
        },
        "id": "NVSyFGjaR0hT",
        "outputId": "86fd5680-e2c8-44ab-e3b4-c18b851969cd"
      },
      "outputs": [
        {
          "data": {
            "text/html": [
              "\n",
              "     <input type=\"file\" id=\"files-83bed9cc-1ad2-4422-b131-ce277d77806c\" name=\"files[]\" multiple disabled\n",
              "        style=\"border:none\" />\n",
              "     <output id=\"result-83bed9cc-1ad2-4422-b131-ce277d77806c\">\n",
              "      Upload widget is only available when the cell has been executed in the\n",
              "      current browser session. Please rerun this cell to enable.\n",
              "      </output>\n",
              "      <script>// Copyright 2017 Google LLC\n",
              "//\n",
              "// Licensed under the Apache License, Version 2.0 (the \"License\");\n",
              "// you may not use this file except in compliance with the License.\n",
              "// You may obtain a copy of the License at\n",
              "//\n",
              "//      http://www.apache.org/licenses/LICENSE-2.0\n",
              "//\n",
              "// Unless required by applicable law or agreed to in writing, software\n",
              "// distributed under the License is distributed on an \"AS IS\" BASIS,\n",
              "// WITHOUT WARRANTIES OR CONDITIONS OF ANY KIND, either express or implied.\n",
              "// See the License for the specific language governing permissions and\n",
              "// limitations under the License.\n",
              "\n",
              "/**\n",
              " * @fileoverview Helpers for google.colab Python module.\n",
              " */\n",
              "(function(scope) {\n",
              "function span(text, styleAttributes = {}) {\n",
              "  const element = document.createElement('span');\n",
              "  element.textContent = text;\n",
              "  for (const key of Object.keys(styleAttributes)) {\n",
              "    element.style[key] = styleAttributes[key];\n",
              "  }\n",
              "  return element;\n",
              "}\n",
              "\n",
              "// Max number of bytes which will be uploaded at a time.\n",
              "const MAX_PAYLOAD_SIZE = 100 * 1024;\n",
              "\n",
              "function _uploadFiles(inputId, outputId) {\n",
              "  const steps = uploadFilesStep(inputId, outputId);\n",
              "  const outputElement = document.getElementById(outputId);\n",
              "  // Cache steps on the outputElement to make it available for the next call\n",
              "  // to uploadFilesContinue from Python.\n",
              "  outputElement.steps = steps;\n",
              "\n",
              "  return _uploadFilesContinue(outputId);\n",
              "}\n",
              "\n",
              "// This is roughly an async generator (not supported in the browser yet),\n",
              "// where there are multiple asynchronous steps and the Python side is going\n",
              "// to poll for completion of each step.\n",
              "// This uses a Promise to block the python side on completion of each step,\n",
              "// then passes the result of the previous step as the input to the next step.\n",
              "function _uploadFilesContinue(outputId) {\n",
              "  const outputElement = document.getElementById(outputId);\n",
              "  const steps = outputElement.steps;\n",
              "\n",
              "  const next = steps.next(outputElement.lastPromiseValue);\n",
              "  return Promise.resolve(next.value.promise).then((value) => {\n",
              "    // Cache the last promise value to make it available to the next\n",
              "    // step of the generator.\n",
              "    outputElement.lastPromiseValue = value;\n",
              "    return next.value.response;\n",
              "  });\n",
              "}\n",
              "\n",
              "/**\n",
              " * Generator function which is called between each async step of the upload\n",
              " * process.\n",
              " * @param {string} inputId Element ID of the input file picker element.\n",
              " * @param {string} outputId Element ID of the output display.\n",
              " * @return {!Iterable<!Object>} Iterable of next steps.\n",
              " */\n",
              "function* uploadFilesStep(inputId, outputId) {\n",
              "  const inputElement = document.getElementById(inputId);\n",
              "  inputElement.disabled = false;\n",
              "\n",
              "  const outputElement = document.getElementById(outputId);\n",
              "  outputElement.innerHTML = '';\n",
              "\n",
              "  const pickedPromise = new Promise((resolve) => {\n",
              "    inputElement.addEventListener('change', (e) => {\n",
              "      resolve(e.target.files);\n",
              "    });\n",
              "  });\n",
              "\n",
              "  const cancel = document.createElement('button');\n",
              "  inputElement.parentElement.appendChild(cancel);\n",
              "  cancel.textContent = 'Cancel upload';\n",
              "  const cancelPromise = new Promise((resolve) => {\n",
              "    cancel.onclick = () => {\n",
              "      resolve(null);\n",
              "    };\n",
              "  });\n",
              "\n",
              "  // Wait for the user to pick the files.\n",
              "  const files = yield {\n",
              "    promise: Promise.race([pickedPromise, cancelPromise]),\n",
              "    response: {\n",
              "      action: 'starting',\n",
              "    }\n",
              "  };\n",
              "\n",
              "  cancel.remove();\n",
              "\n",
              "  // Disable the input element since further picks are not allowed.\n",
              "  inputElement.disabled = true;\n",
              "\n",
              "  if (!files) {\n",
              "    return {\n",
              "      response: {\n",
              "        action: 'complete',\n",
              "      }\n",
              "    };\n",
              "  }\n",
              "\n",
              "  for (const file of files) {\n",
              "    const li = document.createElement('li');\n",
              "    li.append(span(file.name, {fontWeight: 'bold'}));\n",
              "    li.append(span(\n",
              "        `(${file.type || 'n/a'}) - ${file.size} bytes, ` +\n",
              "        `last modified: ${\n",
              "            file.lastModifiedDate ? file.lastModifiedDate.toLocaleDateString() :\n",
              "                                    'n/a'} - `));\n",
              "    const percent = span('0% done');\n",
              "    li.appendChild(percent);\n",
              "\n",
              "    outputElement.appendChild(li);\n",
              "\n",
              "    const fileDataPromise = new Promise((resolve) => {\n",
              "      const reader = new FileReader();\n",
              "      reader.onload = (e) => {\n",
              "        resolve(e.target.result);\n",
              "      };\n",
              "      reader.readAsArrayBuffer(file);\n",
              "    });\n",
              "    // Wait for the data to be ready.\n",
              "    let fileData = yield {\n",
              "      promise: fileDataPromise,\n",
              "      response: {\n",
              "        action: 'continue',\n",
              "      }\n",
              "    };\n",
              "\n",
              "    // Use a chunked sending to avoid message size limits. See b/62115660.\n",
              "    let position = 0;\n",
              "    do {\n",
              "      const length = Math.min(fileData.byteLength - position, MAX_PAYLOAD_SIZE);\n",
              "      const chunk = new Uint8Array(fileData, position, length);\n",
              "      position += length;\n",
              "\n",
              "      const base64 = btoa(String.fromCharCode.apply(null, chunk));\n",
              "      yield {\n",
              "        response: {\n",
              "          action: 'append',\n",
              "          file: file.name,\n",
              "          data: base64,\n",
              "        },\n",
              "      };\n",
              "\n",
              "      let percentDone = fileData.byteLength === 0 ?\n",
              "          100 :\n",
              "          Math.round((position / fileData.byteLength) * 100);\n",
              "      percent.textContent = `${percentDone}% done`;\n",
              "\n",
              "    } while (position < fileData.byteLength);\n",
              "  }\n",
              "\n",
              "  // All done.\n",
              "  yield {\n",
              "    response: {\n",
              "      action: 'complete',\n",
              "    }\n",
              "  };\n",
              "}\n",
              "\n",
              "scope.google = scope.google || {};\n",
              "scope.google.colab = scope.google.colab || {};\n",
              "scope.google.colab._files = {\n",
              "  _uploadFiles,\n",
              "  _uploadFilesContinue,\n",
              "};\n",
              "})(self);\n",
              "</script> "
            ],
            "text/plain": [
              "<IPython.core.display.HTML object>"
            ]
          },
          "metadata": {},
          "output_type": "display_data"
        },
        {
          "name": "stdout",
          "output_type": "stream",
          "text": [
            "Saving data_final.pkl to data_final.pkl\n"
          ]
        }
      ],
      "source": [
        "from google.colab import files\n",
        "uploaded = files.upload()\n",
        "import io\n",
        "df = pd.read_pickle(io.BytesIO(uploaded[\"data_final.pkl\"]))"
      ]
    },
    {
      "cell_type": "code",
      "execution_count": 12,
      "metadata": {
        "colab": {
          "base_uri": "https://localhost:8080/"
        },
        "id": "4JjPkWqKbpZZ",
        "outputId": "85da7a44-d2ab-41ff-b294-4a67295b9d2e"
      },
      "outputs": [
        {
          "data": {
            "text/plain": [
              "(18907, 94)"
            ]
          },
          "execution_count": 12,
          "metadata": {},
          "output_type": "execute_result"
        }
      ],
      "source": [
        "# filter only to house bills and senate bills\n",
        "df = df[(df['BillType'] == 'hr') | (df['BillType'] == 's')]\n",
        "df.shape"
      ]
    },
    {
      "cell_type": "code",
      "execution_count": 13,
      "metadata": {
        "colab": {
          "base_uri": "https://localhost:8080/",
          "height": 542
        },
        "id": "EjYp7e3hOpYS",
        "outputId": "0db594fb-8794-4b48-b352-52b76944f57d"
      },
      "outputs": [
        {
          "data": {
            "text/html": [
              "\n",
              "  <div id=\"df-d6af8676-361f-480f-ba8d-ea90b2ee7915\">\n",
              "    <div class=\"colab-df-container\">\n",
              "      <div>\n",
              "<style scoped>\n",
              "    .dataframe tbody tr th:only-of-type {\n",
              "        vertical-align: middle;\n",
              "    }\n",
              "\n",
              "    .dataframe tbody tr th {\n",
              "        vertical-align: top;\n",
              "    }\n",
              "\n",
              "    .dataframe thead th {\n",
              "        text-align: right;\n",
              "    }\n",
              "</style>\n",
              "<table border=\"1\" class=\"dataframe\">\n",
              "  <thead>\n",
              "    <tr style=\"text-align: right;\">\n",
              "      <th></th>\n",
              "      <th>cbo_estimate_url</th>\n",
              "      <th>senate_passage</th>\n",
              "      <th>govtrack_url</th>\n",
              "      <th>PLaw</th>\n",
              "      <th>subcommittee_codes</th>\n",
              "      <th>sponsor_id</th>\n",
              "      <th>house_passage_vote</th>\n",
              "      <th>NameFirst</th>\n",
              "      <th>NameLast</th>\n",
              "      <th>congress</th>\n",
              "      <th>...</th>\n",
              "      <th>votes</th>\n",
              "      <th>short_title</th>\n",
              "      <th>Major</th>\n",
              "      <th>Delegate</th>\n",
              "      <th>ImpBill</th>\n",
              "      <th>gpo_pdf_uri</th>\n",
              "      <th>Party</th>\n",
              "      <th>NameFull</th>\n",
              "      <th>Minor</th>\n",
              "      <th>Veto</th>\n",
              "    </tr>\n",
              "  </thead>\n",
              "  <tbody>\n",
              "    <tr>\n",
              "      <th>85</th>\n",
              "      <td>None</td>\n",
              "      <td>None</td>\n",
              "      <td>https://www.govtrack.us/congress/bills/113/hr11</td>\n",
              "      <td>0</td>\n",
              "      <td>[HSED13, HSED14, HSJU08, HSII24, HSIF14]</td>\n",
              "      <td>M001160</td>\n",
              "      <td>None</td>\n",
              "      <td>Gwen</td>\n",
              "      <td>Moore</td>\n",
              "      <td>113</td>\n",
              "      <td>...</td>\n",
              "      <td>[]</td>\n",
              "      <td>Violence Against Women Reauthorization Act of ...</td>\n",
              "      <td>20.0</td>\n",
              "      <td>0</td>\n",
              "      <td>1.0</td>\n",
              "      <td>None</td>\n",
              "      <td>100.0</td>\n",
              "      <td>Gwen Moore</td>\n",
              "      <td>2011.0</td>\n",
              "      <td>0</td>\n",
              "    </tr>\n",
              "    <tr>\n",
              "      <th>86</th>\n",
              "      <td>None</td>\n",
              "      <td>None</td>\n",
              "      <td>https://www.govtrack.us/congress/bills/113/hr12</td>\n",
              "      <td>0</td>\n",
              "      <td>[HSED13, HSJU10, HSVR03, HSSY15]</td>\n",
              "      <td>L000287</td>\n",
              "      <td>None</td>\n",
              "      <td>John</td>\n",
              "      <td>Lewis</td>\n",
              "      <td>113</td>\n",
              "      <td>...</td>\n",
              "      <td>[]</td>\n",
              "      <td>Voter Empowerment Act of 2013</td>\n",
              "      <td>2.0</td>\n",
              "      <td>0</td>\n",
              "      <td>1.0</td>\n",
              "      <td>None</td>\n",
              "      <td>100.0</td>\n",
              "      <td>John Lewis</td>\n",
              "      <td>206.0</td>\n",
              "      <td>0</td>\n",
              "    </tr>\n",
              "    <tr>\n",
              "      <th>87</th>\n",
              "      <td>https://www.cbo.gov/publication/45206</td>\n",
              "      <td>None</td>\n",
              "      <td>https://www.govtrack.us/congress/bills/113/hr15</td>\n",
              "      <td>0</td>\n",
              "      <td>[HSSY15, HSHM11, HSII22, HSII10, HSIF17]</td>\n",
              "      <td>G000573</td>\n",
              "      <td>None</td>\n",
              "      <td>Joe</td>\n",
              "      <td>Garcia</td>\n",
              "      <td>113</td>\n",
              "      <td>...</td>\n",
              "      <td>[]</td>\n",
              "      <td>Border Security, Economic Opportunity, and Imm...</td>\n",
              "      <td>9.0</td>\n",
              "      <td>0</td>\n",
              "      <td>1.0</td>\n",
              "      <td>None</td>\n",
              "      <td>100.0</td>\n",
              "      <td>Joe Garcia</td>\n",
              "      <td>900.0</td>\n",
              "      <td>0</td>\n",
              "    </tr>\n",
              "    <tr>\n",
              "      <th>88</th>\n",
              "      <td>None</td>\n",
              "      <td>None</td>\n",
              "      <td>https://www.govtrack.us/congress/bills/113/hr20</td>\n",
              "      <td>0</td>\n",
              "      <td>[HSIF16]</td>\n",
              "      <td>S001168</td>\n",
              "      <td>None</td>\n",
              "      <td>John</td>\n",
              "      <td>Sarbanes</td>\n",
              "      <td>113</td>\n",
              "      <td>...</td>\n",
              "      <td>[]</td>\n",
              "      <td>Government By the People Act of 2014</td>\n",
              "      <td>20.0</td>\n",
              "      <td>0</td>\n",
              "      <td>1.0</td>\n",
              "      <td>None</td>\n",
              "      <td>100.0</td>\n",
              "      <td>John Sarbanes</td>\n",
              "      <td>2012.0</td>\n",
              "      <td>0</td>\n",
              "    </tr>\n",
              "    <tr>\n",
              "      <th>89</th>\n",
              "      <td>None</td>\n",
              "      <td>None</td>\n",
              "      <td>https://www.govtrack.us/congress/bills/113/hr21</td>\n",
              "      <td>0</td>\n",
              "      <td>[HSJU08]</td>\n",
              "      <td>M000933</td>\n",
              "      <td>None</td>\n",
              "      <td>James</td>\n",
              "      <td>Moran</td>\n",
              "      <td>113</td>\n",
              "      <td>...</td>\n",
              "      <td>[]</td>\n",
              "      <td>NRA Members' Gun Safety Act of 2013</td>\n",
              "      <td>12.0</td>\n",
              "      <td>0</td>\n",
              "      <td>1.0</td>\n",
              "      <td>None</td>\n",
              "      <td>100.0</td>\n",
              "      <td>James Moran</td>\n",
              "      <td>1209.0</td>\n",
              "      <td>0</td>\n",
              "    </tr>\n",
              "  </tbody>\n",
              "</table>\n",
              "<p>5 rows × 94 columns</p>\n",
              "</div>\n",
              "      <button class=\"colab-df-convert\" onclick=\"convertToInteractive('df-d6af8676-361f-480f-ba8d-ea90b2ee7915')\"\n",
              "              title=\"Convert this dataframe to an interactive table.\"\n",
              "              style=\"display:none;\">\n",
              "        \n",
              "  <svg xmlns=\"http://www.w3.org/2000/svg\" height=\"24px\"viewBox=\"0 0 24 24\"\n",
              "       width=\"24px\">\n",
              "    <path d=\"M0 0h24v24H0V0z\" fill=\"none\"/>\n",
              "    <path d=\"M18.56 5.44l.94 2.06.94-2.06 2.06-.94-2.06-.94-.94-2.06-.94 2.06-2.06.94zm-11 1L8.5 8.5l.94-2.06 2.06-.94-2.06-.94L8.5 2.5l-.94 2.06-2.06.94zm10 10l.94 2.06.94-2.06 2.06-.94-2.06-.94-.94-2.06-.94 2.06-2.06.94z\"/><path d=\"M17.41 7.96l-1.37-1.37c-.4-.4-.92-.59-1.43-.59-.52 0-1.04.2-1.43.59L10.3 9.45l-7.72 7.72c-.78.78-.78 2.05 0 2.83L4 21.41c.39.39.9.59 1.41.59.51 0 1.02-.2 1.41-.59l7.78-7.78 2.81-2.81c.8-.78.8-2.07 0-2.86zM5.41 20L4 18.59l7.72-7.72 1.47 1.35L5.41 20z\"/>\n",
              "  </svg>\n",
              "      </button>\n",
              "      \n",
              "  <style>\n",
              "    .colab-df-container {\n",
              "      display:flex;\n",
              "      flex-wrap:wrap;\n",
              "      gap: 12px;\n",
              "    }\n",
              "\n",
              "    .colab-df-convert {\n",
              "      background-color: #E8F0FE;\n",
              "      border: none;\n",
              "      border-radius: 50%;\n",
              "      cursor: pointer;\n",
              "      display: none;\n",
              "      fill: #1967D2;\n",
              "      height: 32px;\n",
              "      padding: 0 0 0 0;\n",
              "      width: 32px;\n",
              "    }\n",
              "\n",
              "    .colab-df-convert:hover {\n",
              "      background-color: #E2EBFA;\n",
              "      box-shadow: 0px 1px 2px rgba(60, 64, 67, 0.3), 0px 1px 3px 1px rgba(60, 64, 67, 0.15);\n",
              "      fill: #174EA6;\n",
              "    }\n",
              "\n",
              "    [theme=dark] .colab-df-convert {\n",
              "      background-color: #3B4455;\n",
              "      fill: #D2E3FC;\n",
              "    }\n",
              "\n",
              "    [theme=dark] .colab-df-convert:hover {\n",
              "      background-color: #434B5C;\n",
              "      box-shadow: 0px 1px 3px 1px rgba(0, 0, 0, 0.15);\n",
              "      filter: drop-shadow(0px 1px 2px rgba(0, 0, 0, 0.3));\n",
              "      fill: #FFFFFF;\n",
              "    }\n",
              "  </style>\n",
              "\n",
              "      <script>\n",
              "        const buttonEl =\n",
              "          document.querySelector('#df-d6af8676-361f-480f-ba8d-ea90b2ee7915 button.colab-df-convert');\n",
              "        buttonEl.style.display =\n",
              "          google.colab.kernel.accessAllowed ? 'block' : 'none';\n",
              "\n",
              "        async function convertToInteractive(key) {\n",
              "          const element = document.querySelector('#df-d6af8676-361f-480f-ba8d-ea90b2ee7915');\n",
              "          const dataTable =\n",
              "            await google.colab.kernel.invokeFunction('convertToInteractive',\n",
              "                                                     [key], {});\n",
              "          if (!dataTable) return;\n",
              "\n",
              "          const docLinkHtml = 'Like what you see? Visit the ' +\n",
              "            '<a target=\"_blank\" href=https://colab.research.google.com/notebooks/data_table.ipynb>data table notebook</a>'\n",
              "            + ' to learn more about interactive tables.';\n",
              "          element.innerHTML = '';\n",
              "          dataTable['output_type'] = 'display_data';\n",
              "          await google.colab.output.renderOutput(dataTable, element);\n",
              "          const docLink = document.createElement('div');\n",
              "          docLink.innerHTML = docLinkHtml;\n",
              "          element.appendChild(docLink);\n",
              "        }\n",
              "      </script>\n",
              "    </div>\n",
              "  </div>\n",
              "  "
            ],
            "text/plain": [
              "                         cbo_estimate_url senate_passage  \\\n",
              "85                                   None           None   \n",
              "86                                   None           None   \n",
              "87  https://www.cbo.gov/publication/45206           None   \n",
              "88                                   None           None   \n",
              "89                                   None           None   \n",
              "\n",
              "                                       govtrack_url  PLaw  \\\n",
              "85  https://www.govtrack.us/congress/bills/113/hr11     0   \n",
              "86  https://www.govtrack.us/congress/bills/113/hr12     0   \n",
              "87  https://www.govtrack.us/congress/bills/113/hr15     0   \n",
              "88  https://www.govtrack.us/congress/bills/113/hr20     0   \n",
              "89  https://www.govtrack.us/congress/bills/113/hr21     0   \n",
              "\n",
              "                          subcommittee_codes sponsor_id house_passage_vote  \\\n",
              "85  [HSED13, HSED14, HSJU08, HSII24, HSIF14]    M001160               None   \n",
              "86          [HSED13, HSJU10, HSVR03, HSSY15]    L000287               None   \n",
              "87  [HSSY15, HSHM11, HSII22, HSII10, HSIF17]    G000573               None   \n",
              "88                                  [HSIF16]    S001168               None   \n",
              "89                                  [HSJU08]    M000933               None   \n",
              "\n",
              "   NameFirst  NameLast congress  ... votes  \\\n",
              "85      Gwen     Moore      113  ...    []   \n",
              "86      John     Lewis      113  ...    []   \n",
              "87       Joe    Garcia      113  ...    []   \n",
              "88      John  Sarbanes      113  ...    []   \n",
              "89     James     Moran      113  ...    []   \n",
              "\n",
              "                                          short_title Major  Delegate ImpBill  \\\n",
              "85  Violence Against Women Reauthorization Act of ...  20.0         0     1.0   \n",
              "86                      Voter Empowerment Act of 2013   2.0         0     1.0   \n",
              "87  Border Security, Economic Opportunity, and Imm...   9.0         0     1.0   \n",
              "88               Government By the People Act of 2014  20.0         0     1.0   \n",
              "89                NRA Members' Gun Safety Act of 2013  12.0         0     1.0   \n",
              "\n",
              "    gpo_pdf_uri  Party       NameFull   Minor Veto  \n",
              "85         None  100.0     Gwen Moore  2011.0    0  \n",
              "86         None  100.0     John Lewis   206.0    0  \n",
              "87         None  100.0     Joe Garcia   900.0    0  \n",
              "88         None  100.0  John Sarbanes  2012.0    0  \n",
              "89         None  100.0    James Moran  1209.0    0  \n",
              "\n",
              "[5 rows x 94 columns]"
            ]
          },
          "execution_count": 13,
          "metadata": {},
          "output_type": "execute_result"
        }
      ],
      "source": [
        "df.head(5)"
      ]
    },
    {
      "attachments": {},
      "cell_type": "markdown",
      "metadata": {
        "id": "uedTHVecOpYS"
      },
      "source": [
        "### Prepare source data"
      ]
    },
    {
      "cell_type": "code",
      "execution_count": 14,
      "metadata": {
        "id": "0EkRLyvaOpYS"
      },
      "outputs": [],
      "source": [
        "#creating the target cariable\n",
        "df['target_class'] = (df['PassH'] == 1) | (df['PassS'] == 1)"
      ]
    },
    {
      "attachments": {},
      "cell_type": "markdown",
      "metadata": {
        "id": "ZC-ATwPKOpYS"
      },
      "source": [
        "## STEP 1:  Load and Preprocess the Dataset\n"
      ]
    },
    {
      "cell_type": "code",
      "execution_count": 15,
      "metadata": {
        "colab": {
          "base_uri": "https://localhost:8080/",
          "height": 520
        },
        "id": "gBKloOQUOpYS",
        "outputId": "a6458310-039d-40b4-82fb-5810a50ce5fd"
      },
      "outputs": [
        {
          "name": "stdout",
          "output_type": "stream",
          "text": [
            "['not_target_class', 'target_class']\n",
            "       not_target_class  target_class\n",
            "13850               0.0           1.0\n",
            "12209               1.0           0.0\n",
            "439                 1.0           0.0\n",
            "11837               1.0           0.0\n",
            "15209               1.0           0.0\n",
            "['not_target_class', 'target_class']\n",
            "       not_target_class  target_class\n",
            "17468               1.0           0.0\n",
            "8337                1.0           0.0\n",
            "2785                1.0           0.0\n",
            "15755               1.0           0.0\n",
            "2905                1.0           0.0\n",
            "downloading pretrained BERT model (uncased_L-12_H-768_A-12.zip)...\n",
            "[██████████████████████████████████████████████████]\n",
            "extracting pretrained BERT model...\n",
            "done.\n",
            "\n",
            "cleanup downloaded zip...\n",
            "done.\n",
            "\n",
            "preprocessing train...\n",
            "language: en\n"
          ]
        },
        {
          "data": {
            "text/html": [
              "\n",
              "<style>\n",
              "    /* Turns off some styling */\n",
              "    progress {\n",
              "        /* gets rid of default border in Firefox and Opera. */\n",
              "        border: none;\n",
              "        /* Needs to be in here for Safari polyfill so background images work as expected. */\n",
              "        background-size: auto;\n",
              "    }\n",
              "    progress:not([value]), progress:not([value])::-webkit-progress-bar {\n",
              "        background: repeating-linear-gradient(45deg, #7e7e7e, #7e7e7e 10px, #5c5c5c 10px, #5c5c5c 20px);\n",
              "    }\n",
              "    .progress-bar-interrupted, .progress-bar-interrupted::-webkit-progress-bar {\n",
              "        background: #F44336;\n",
              "    }\n",
              "</style>\n"
            ],
            "text/plain": [
              "<IPython.core.display.HTML object>"
            ]
          },
          "metadata": {},
          "output_type": "display_data"
        },
        {
          "data": {
            "text/html": [
              "done."
            ],
            "text/plain": [
              "<IPython.core.display.HTML object>"
            ]
          },
          "metadata": {},
          "output_type": "display_data"
        },
        {
          "name": "stdout",
          "output_type": "stream",
          "text": [
            "Is Multi-Label? False\n",
            "preprocessing test...\n",
            "language: en\n"
          ]
        },
        {
          "data": {
            "text/html": [
              "\n",
              "<style>\n",
              "    /* Turns off some styling */\n",
              "    progress {\n",
              "        /* gets rid of default border in Firefox and Opera. */\n",
              "        border: none;\n",
              "        /* Needs to be in here for Safari polyfill so background images work as expected. */\n",
              "        background-size: auto;\n",
              "    }\n",
              "    progress:not([value]), progress:not([value])::-webkit-progress-bar {\n",
              "        background: repeating-linear-gradient(45deg, #7e7e7e, #7e7e7e 10px, #5c5c5c 10px, #5c5c5c 20px);\n",
              "    }\n",
              "    .progress-bar-interrupted, .progress-bar-interrupted::-webkit-progress-bar {\n",
              "        background: #F44336;\n",
              "    }\n",
              "</style>\n"
            ],
            "text/plain": [
              "<IPython.core.display.HTML object>"
            ]
          },
          "metadata": {},
          "output_type": "display_data"
        },
        {
          "data": {
            "text/html": [
              "done."
            ],
            "text/plain": [
              "<IPython.core.display.HTML object>"
            ]
          },
          "metadata": {},
          "output_type": "display_data"
        }
      ],
      "source": [
        "maxLen = 200 #each document can be of most <maxLen> words. 0 is used as padding ID.\n",
        "nGramRange = 1 #size of multi-word phrases to consider\n",
        "preprocessMode='bert' #Either 'standard' (normal tokenization) or 'bert' tokenization and preprocessing for use with BERT text classification model.\n",
        "sampleSize = 0.3 #Proportion of training to use for validation\n",
        "\n",
        "(x_train,  y_train), (x_test, y_test), preproc = text.texts_from_df(train_df = df, \n",
        "                                                                    text_column  = 'summary', \n",
        "                                                                    label_columns = ['target_class'],\n",
        "                                                                       val_pct=sampleSize,\n",
        "                                                                       preprocess_mode=preprocessMode, #text must be preprocessed in a specific way for use with BERT\n",
        "                                                                       maxlen=maxLen)"
      ]
    },
    {
      "attachments": {},
      "cell_type": "markdown",
      "metadata": {
        "id": "Ivt4CE7xOpYT"
      },
      "source": [
        "## STEP 2:  Load a pretrained BERT model and wrap it in a `ktrain.Learner` object"
      ]
    },
    {
      "cell_type": "code",
      "execution_count": 16,
      "metadata": {
        "colab": {
          "base_uri": "https://localhost:8080/"
        },
        "id": "JyS96h00OpYT",
        "outputId": "d3c9e955-5bd6-4a82-f18d-490bbb342a73"
      },
      "outputs": [
        {
          "name": "stdout",
          "output_type": "stream",
          "text": [
            "Is Multi-Label? False\n",
            "maxlen is 200\n"
          ]
        },
        {
          "name": "stderr",
          "output_type": "stream",
          "text": [
            "/usr/local/lib/python3.10/dist-packages/keras/initializers/initializers.py:120: UserWarning: The initializer GlorotNormal is unseeded and being called multiple times, which will return identical values each time (even if the initializer is unseeded). Please update your code to provide a seed to the initializer, or avoid using the same initalizer instance more than once.\n",
            "  warnings.warn(\n"
          ]
        },
        {
          "name": "stdout",
          "output_type": "stream",
          "text": [
            "done.\n"
          ]
        }
      ],
      "source": [
        "model = text.text_classifier('bert', (x_train, y_train), preproc=preproc)"
      ]
    },
    {
      "cell_type": "code",
      "execution_count": 17,
      "metadata": {
        "id": "tshHifaJOpYT"
      },
      "outputs": [],
      "source": [
        "batchSize = 16 ### Check best size\n",
        "\n",
        "learner = ktrain.get_learner(model, \n",
        "                             train_data=(x_train, y_train), \n",
        "                             val_data=(x_test, y_test), \n",
        "                             batch_size=batchSize)"
      ]
    },
    {
      "attachments": {},
      "cell_type": "markdown",
      "metadata": {
        "id": "z1U_PMCwOpYT"
      },
      "source": [
        "## STEP 3: Train the Model\n"
      ]
    },
    {
      "cell_type": "code",
      "execution_count": 18,
      "metadata": {
        "colab": {
          "base_uri": "https://localhost:8080/"
        },
        "id": "dVzsiTKUOpYU",
        "outputId": "c513e2ce-ed27-46d8-d065-e3f40ac88567"
      },
      "outputs": [
        {
          "name": "stdout",
          "output_type": "stream",
          "text": [
            "simulating training for different learning rates... this may take a few moments...\n",
            "Epoch 1/3\n",
            "828/828 [==============================] - 637s 740ms/step - loss: 0.2383 - accuracy: 0.9243\n",
            "Epoch 2/3\n",
            "828/828 [==============================] - 613s 741ms/step - loss: 0.5063 - accuracy: 0.9052\n",
            "Epoch 3/3\n",
            "828/828 [==============================] - 5s 5ms/step - loss: 2.4538 - accuracy: 0.7857\n",
            "\n",
            "\n",
            "done.\n",
            "Please invoke the Learner.lr_plot() method to visually inspect the loss plot to help identify the maximal learning rate associated with falling loss.\n"
          ]
        }
      ],
      "source": [
        "# briefly simulate training to find good learning rate\n",
        "\n",
        "learner.lr_find(max_epochs=3)"
      ]
    },
    {
      "cell_type": "code",
      "execution_count": 19,
      "metadata": {
        "colab": {
          "base_uri": "https://localhost:8080/",
          "height": 454
        },
        "id": "Tkna5DuGOpYU",
        "outputId": "2f715782-8bdd-4d93-b8e5-54e4791d9da5"
      },
      "outputs": [
        {
          "data": {
            "image/png": "[encoded data removed]",
            "text/plain": [
              "<Figure size 640x480 with 1 Axes>"
            ]
          },
          "metadata": {},
          "output_type": "display_data"
        }
      ],
      "source": [
        "learner.lr_plot()"
      ]
    },
    {
      "cell_type": "code",
      "execution_count": 20,
      "metadata": {
        "colab": {
          "base_uri": "https://localhost:8080/"
        },
        "id": "xM5Y3lCzOpYU",
        "outputId": "d5b5dd27-a23a-4fd7-8821-e14df014ddbb",
        "scrolled": true
      },
      "outputs": [
        {
          "name": "stdout",
          "output_type": "stream",
          "text": [
            "\n",
            "\n",
            "begin training using triangular learning rate policy with max lr of 2e-05...\n",
            "Epoch 1/3\n",
            "828/828 [==============================] - 787s 924ms/step - loss: 0.1430 - accuracy: 0.9442 - val_loss: 0.0973 - val_accuracy: 0.9614\n",
            "Epoch 2/3\n",
            "828/828 [==============================] - 759s 917ms/step - loss: 0.1029 - accuracy: 0.9571 - val_loss: 0.0935 - val_accuracy: 0.9637\n",
            "Epoch 3/3\n",
            "828/828 [==============================] - 760s 918ms/step - loss: 0.0933 - accuracy: 0.9612 - val_loss: 0.0946 - val_accuracy: 0.9603\n"
          ]
        },
        {
          "data": {
            "text/plain": [
              "<keras.callbacks.History at 0x7f921cfef730>"
            ]
          },
          "execution_count": 20,
          "metadata": {},
          "output_type": "execute_result"
        }
      ],
      "source": [
        "learningRate = 2e-5\n",
        "numEpoch = 3\n",
        "\n",
        "# learner.fit_onecycle(learningRate, numEpoch)\n",
        "learner.autofit(learningRate, numEpoch)"
      ]
    },
    {
      "attachments": {},
      "cell_type": "markdown",
      "metadata": {
        "id": "uVaUz-XJOpYU"
      },
      "source": [
        "We can use the `learner.validate` method to test our model against the validation set."
      ]
    },
    {
      "cell_type": "code",
      "execution_count": 21,
      "metadata": {
        "colab": {
          "base_uri": "https://localhost:8080/"
        },
        "id": "jvU0bYRwOpYU",
        "outputId": "7c9653f9-227e-469c-cbd3-9d30ab5113a4"
      },
      "outputs": [
        {
          "name": "stdout",
          "output_type": "stream",
          "text": [
            "178/178 [==============================] - 93s 497ms/step\n",
            "              precision    recall  f1-score   support\n",
            "\n",
            "           0       0.99      0.97      0.98      5151\n",
            "           1       0.75      0.86      0.80       522\n",
            "\n",
            "    accuracy                           0.96      5673\n",
            "   macro avg       0.87      0.92      0.89      5673\n",
            "weighted avg       0.96      0.96      0.96      5673\n",
            "\n"
          ]
        },
        {
          "data": {
            "text/plain": [
              "array([[4998,  153],\n",
              "       [  72,  450]])"
            ]
          },
          "execution_count": 21,
          "metadata": {},
          "output_type": "execute_result"
        }
      ],
      "source": [
        "learner.validate(val_data=(x_test, y_test))"
      ]
    },
    {
      "cell_type": "code",
      "execution_count": 22,
      "metadata": {
        "colab": {
          "base_uri": "https://localhost:8080/",
          "height": 512
        },
        "id": "hzceL8xPOpYV",
        "outputId": "d0a1f9af-cf0f-4ed1-d982-cbf4d8560dca"
      },
      "outputs": [
        {
          "data": {
            "image/png": "[encoded data removed]",
            "text/plain": [
              "<Figure size 640x480 with 2 Axes>"
            ]
          },
          "metadata": {},
          "output_type": "display_data"
        }
      ],
      "source": [
        "import numpy as np\n",
        "import matplotlib.pyplot as plt\n",
        "\n",
        "# Given confusion matrix\n",
        "cm = np.array([[4998,  153],\n",
        "       [72,  450]])\n",
        "\n",
        "# Define class labels\n",
        "labels = ['Negative', 'Positive']\n",
        "\n",
        "# Create heatmap\n",
        "fig, ax = plt.subplots()\n",
        "im = ax.imshow(cm, cmap='Blues')\n",
        "\n",
        "# Set colorbar\n",
        "cbar = ax.figure.colorbar(im, ax=ax)\n",
        "\n",
        "# Set tick labels\n",
        "ax.set_xticks(np.arange(len(labels)))\n",
        "ax.set_yticks(np.arange(len(labels)))\n",
        "ax.set_xticklabels(labels)\n",
        "ax.set_yticklabels(labels)\n",
        "\n",
        "# Rotate the tick labels and set alignment\n",
        "plt.setp(ax.get_xticklabels(), rotation=45, ha=\"right\", rotation_mode=\"anchor\")\n",
        "\n",
        "# Loop over data dimensions and create text annotations\n",
        "for i in range(len(labels)):\n",
        "    for j in range(len(labels)):\n",
        "        text = ax.text(j, i, cm[i, j], ha=\"center\", va=\"center\", color=\"black\")\n",
        "\n",
        "# Set labels and title\n",
        "ax.set_xlabel('Predicted')\n",
        "ax.set_ylabel('Actual')\n",
        "ax.set_title('Confusion Matrix')\n",
        "\n",
        "# Show the plot\n",
        "plt.show()"
      ]
    }
  ],
  "metadata": {
    "accelerator": "GPU",
    "colab": {
      "gpuType": "T4",
      "provenance": []
    },
    "gpuClass": "standard",
    "kernelspec": {
      "display_name": "Python 3",
      "language": "python",
      "name": "python3"
    },
    "language_info": {
      "codemirror_mode": {
        "name": "ipython",
        "version": 3
      },
      "file_extension": ".py",
      "mimetype": "text/x-python",
      "name": "python",
      "nbconvert_exporter": "python",
      "pygments_lexer": "ipython3",
      "version": "3.9.7"
    },
    "pycharm": {
      "stem_cell": {
        "cell_type": "raw",
        "metadata": {
          "collapsed": false
        },
        "source": []
      }
    }
  },
  "nbformat": 4,
  "nbformat_minor": 0
}
