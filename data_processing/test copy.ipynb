{
 "cells": [
  {
   "cell_type": "code",
   "execution_count": null,
   "metadata": {},
   "outputs": [],
   "source": [
    "import requests\n",
    "import time\n",
    "import pandas as pd\n",
    "pd.set_option(\"display.max.columns\", None)\n",
    "\n",
    "## Congress\n",
    "headers = {'X-API-Key': 'Li9aCR2BjLZviTE2vhRXQ9QDqq1XU8NxXUXkQDbA',}\n",
    "pp_base = 'https://api.propublica.org/congress/v1/'\n",
    "\n",
    "# GET https://api.propublica.org/congress/v1/{congress}/bills/{bill-id}.json\n",
    "\n",
    "CONGRESS = 114\n",
    "\n",
    "bill_id = 'sres642'\n",
    "\n",
    "data = requests.get(f'{pp_base}{CONGRESS}/bills/{bill_id}.json', headers = headers).json()\n",
    "data"
   ]
  },
  {
   "cell_type": "code",
   "execution_count": null,
   "metadata": {},
   "outputs": [],
   "source": [
    "data['results'][0]['summary']"
   ]
  },
  {
   "cell_type": "code",
   "execution_count": null,
   "metadata": {},
   "outputs": [],
   "source": [
    "# Read the CSV file into a pandas dataframe\n",
    "dfd = pd.read_csv('bills_database/bills_93-114_dem.csv')\n",
    "dfr = pd.read_csv('bills_database/bills_93-114_rep.csv')\n",
    "minor = pd.read_csv('bills_database/minor.csv', header=None)\n",
    "major = pd.read_csv('bills_database/major.csv')\n",
    "\n",
    "# Create code dictionaries\n",
    "minor[['code', 'description']] = minor[0].str.split(\":\", n=1, expand=True)\n",
    "minor = minor.drop(0, axis=1)\n",
    "minor = minor.set_index('code').to_dict('index')\n",
    "minor = {i:val['description'] for i, val in minor.items()}\n",
    "major = major.set_index('code').to_dict('index')\n",
    "major = {i:val['description'] for i, val in major.items()}\n",
    "\n",
    "# Display the dataframe\n",
    "df = pd.concat([dfd, dfr])\n",
    "\n",
    "# Propublica only has info from congress 113\n",
    "df = df.loc[df['Cong'] >= 113]\n"
   ]
  },
  {
   "cell_type": "code",
   "execution_count": null,
   "metadata": {},
   "outputs": [],
   "source": [
    "df['idx'] = df['BillType'] + df['BillNum'].astype(str)\n",
    "dict_bills = df.to_dict('records')"
   ]
  },
  {
   "cell_type": "code",
   "execution_count": null,
   "metadata": {},
   "outputs": [],
   "source": [
    "def mergedicts(dict1, dict2):\n",
    "    '''\n",
    "    Esta funcion ayuda a combinar diccionarios\n",
    "    '''\n",
    "    for k in set(dict1.keys()).union(dict2.keys()):\n",
    "        if k in dict1 and k in dict2:\n",
    "            if isinstance(dict1[k], dict) and isinstance(dict2[k], dict):\n",
    "                yield (k, dict(mergedicts(dict1[k], dict2[k])))\n",
    "            else:\n",
    "                yield (k, dict2[k])\n",
    "        elif k in dict1:\n",
    "            yield (k, dict1[k])\n",
    "        else:\n",
    "            yield (k, dict2[k])\n",
    "\n",
    "final_dta = []\n",
    "error_aux = []\n",
    "error = []\n",
    "\n",
    "for i in dict_bills:\n",
    "    congress = i['Cong']\n",
    "    bill_id = i['idx']\n",
    "    if congress == 113 and bill_id == 'hr1771':\n",
    "        continue\n",
    "    try:\n",
    "        try:\n",
    "            propublica_data = requests.get(f'{pp_base}{congress}/bills/{bill_id}.json', headers = headers).json()\n",
    "        except: \n",
    "            error.append(tuple(congress, bill_id, False))\n",
    "            continue\n",
    "    except:\n",
    "        time.sleep(75)\n",
    "        try:\n",
    "            propublica_data = requests.get(f'{pp_base}{congress}/bills/{bill_id}.json', headers = headers).json()\n",
    "        except:\n",
    "            error.append(tuple(congress, bill_id, False))\n",
    "            continue\n",
    "    try:\n",
    "        if propublica_data['status'] == 'ERROR': \n",
    "            error.append(tuple(congress, bill_id, True))\n",
    "            continue\n",
    "        data = dict(propublica_data['results'][0])\n",
    "        if data['summary'] == '': continue\n",
    "        data['Major_desc'] = major.get(i['Major'], None)\n",
    "        data['Minor_desc'] = major.get(i['Minor'], None)\n",
    "        final_dta.append(dict(mergedicts(i,data)))\n",
    "    except:\n",
    "        print(propublica_data)\n",
    "        error_aux.append(propublica_data)\n",
    "        continue"
   ]
  },
  {
   "cell_type": "code",
   "execution_count": null,
   "metadata": {},
   "outputs": [],
   "source": [
    "data_final = pd.DataFrame(final_dta)\n",
    "data_final.to_pickle(\"df.pkl\")"
   ]
  },
  {
   "cell_type": "code",
   "execution_count": null,
   "metadata": {},
   "outputs": [],
   "source": [
    "data_final = pd.read_pickle(\"data_final.pkl\")\n",
    "data_final"
   ]
  }
 ],
 "metadata": {
  "kernelspec": {
   "display_name": "Python 3",
   "language": "python",
   "name": "python3"
  },
  "language_info": {
   "codemirror_mode": {
    "name": "ipython",
    "version": 3
   },
   "file_extension": ".py",
   "mimetype": "text/x-python",
   "name": "python",
   "nbconvert_exporter": "python",
   "pygments_lexer": "ipython3",
   "version": "3.10.4"
  },
  "orig_nbformat": 4
 },
 "nbformat": 4,
 "nbformat_minor": 2
}
