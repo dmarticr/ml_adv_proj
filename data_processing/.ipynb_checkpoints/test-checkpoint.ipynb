{
 "cells": [
  {
   "cell_type": "code",
   "execution_count": 1,
   "metadata": {},
   "outputs": [
    {
     "data": {
      "text/plain": [
       "{'status': 'OK',\n",
       " 'copyright': 'Copyright (c) 2023 Pro Publica Inc. All Rights Reserved.',\n",
       " 'results': [{'bill_id': 'sres642-114',\n",
       "   'bill_slug': 'sres642',\n",
       "   'congress': '114',\n",
       "   'bill': 'S.RES.642',\n",
       "   'bill_type': 'sres',\n",
       "   'number': 'S.RES.642',\n",
       "   'bill_uri': 'https://api.propublica.org/congress/v1/114/bills/sres642.json',\n",
       "   'title': 'A resolution authorizing taking pictures and filming in the Senate Chamber, the Senate Wing of the United States Capitol, and Senate Office Buildings for production of a film and a book on the history of the Senate.',\n",
       "   'short_title': 'A resolution authorizing taking pictures and filming in the Senate Chamber, the Senate Wing of the United States Capitol, and Senate Office Buildings for production of a film and a book on the history of the Senate.',\n",
       "   'sponsor_title': 'Sen.',\n",
       "   'sponsor': 'Mitch McConnell',\n",
       "   'sponsor_id': 'M000355',\n",
       "   'sponsor_uri': 'https://api.propublica.org/congress/v1/members/M000355.json',\n",
       "   'sponsor_party': 'R',\n",
       "   'sponsor_state': 'KY',\n",
       "   'gpo_pdf_uri': None,\n",
       "   'congressdotgov_url': 'https://www.congress.gov/bill/114th-congress/senate-resolution/642',\n",
       "   'govtrack_url': 'https://www.govtrack.us/congress/bills/114/sres642',\n",
       "   'introduced_date': '2016-12-10',\n",
       "   'active': True,\n",
       "   'last_vote': None,\n",
       "   'house_passage': None,\n",
       "   'senate_passage': '2016-12-10',\n",
       "   'enacted': None,\n",
       "   'vetoed': None,\n",
       "   'cosponsors': 3,\n",
       "   'cosponsors_by_party': {'D': 2, 'R': 1},\n",
       "   'withdrawn_cosponsors': 0,\n",
       "   'primary_subject': 'Congress',\n",
       "   'committees': '',\n",
       "   'committee_codes': [],\n",
       "   'subcommittee_codes': [],\n",
       "   'latest_major_action_date': '2016-12-10',\n",
       "   'latest_major_action': 'Submitted in the Senate, considered, and agreed to without amendment by Unanimous Consent. (consideration: CR S7149; text as passed Senate: CR S7040)',\n",
       "   'house_passage_vote': None,\n",
       "   'senate_passage_vote': '2016-12-10',\n",
       "   'summary': '(This measure has not been amended since it was introduced. The summary of that version is repeated here.) Suspends specified provisions of Rule IV of the Rules for the Regulation of the Senate Wing of the U.S. Capitol (prohibiting the taking of pictures in the Senate Chamber) to permit the taking of pictures and filming while the Senate is in session or in recess beginning on the adoption of this resolution and ending on May 1, 2017. Requires the Majority and the Minority Leaders of the Senate, and the Chairman and Ranking Member of the Senate Committee on Rules and Administration to enter into a memorandum of understanding with an individual or entity seeking to take such pictures and conduct such filming to produce a film documentary and a book on the history of the Senate to formalize an agreement on: (1) locations and times for taking pictures and conducting filming, and (2) the use of the pictures taken and film made.',\n",
       "   'summary_short': '(This measure has not been amended since it was introduced. The summary of that version is repeated here.) Suspends specified provisions of Rule IV of the Rules for the Regulation of the Senate Wing of the U.S. Capitol (prohibiting the taking of pictures in the Senate Chamber) to permit the taking of pictures and filming while the Senate is in session or in recess beginning on the adoption of this resolution and ending on May 1, 2017. Requires the Majority and the Minority Leaders of the Sena...',\n",
       "   'cbo_estimate_url': None,\n",
       "   'versions': [],\n",
       "   'actions': [{'id': 1,\n",
       "     'chamber': 'Senate',\n",
       "     'action_type': 'Floor',\n",
       "     'datetime': '2016-12-10',\n",
       "     'description': 'Submitted in the Senate, considered, and agreed to without amendment by Unanimous Consent. (consideration: CR S7149; text as passed Senate: CR S7040)'}],\n",
       "   'presidential_statements': [],\n",
       "   'votes': []}]}"
      ]
     },
     "execution_count": 1,
     "metadata": {},
     "output_type": "execute_result"
    }
   ],
   "source": [
    "import requests\n",
    "import time\n",
    "import pandas as pd\n",
    "pd.set_option(\"display.max.columns\", None)\n",
    "\n",
    "## Congress\n",
    "headers = {'X-API-Key': 'Li9aCR2BjLZviTE2vhRXQ9QDqq1XU8NxXUXkQDbA',}\n",
    "pp_base = 'https://api.propublica.org/congress/v1/'\n",
    "\n",
    "# GET https://api.propublica.org/congress/v1/{congress}/bills/{bill-id}.json\n",
    "\n",
    "CONGRESS = 114\n",
    "\n",
    "bill_id = 'sres642'\n",
    "\n",
    "data = requests.get(f'{pp_base}{CONGRESS}/bills/{bill_id}.json', headers = headers).json()\n",
    "data"
   ]
  },
  {
   "cell_type": "code",
   "execution_count": 2,
   "metadata": {},
   "outputs": [
    {
     "data": {
      "text/plain": [
       "'(This measure has not been amended since it was introduced. The summary of that version is repeated here.) Suspends specified provisions of Rule IV of the Rules for the Regulation of the Senate Wing of the U.S. Capitol (prohibiting the taking of pictures in the Senate Chamber) to permit the taking of pictures and filming while the Senate is in session or in recess beginning on the adoption of this resolution and ending on May 1, 2017. Requires the Majority and the Minority Leaders of the Senate, and the Chairman and Ranking Member of the Senate Committee on Rules and Administration to enter into a memorandum of understanding with an individual or entity seeking to take such pictures and conduct such filming to produce a film documentary and a book on the history of the Senate to formalize an agreement on: (1) locations and times for taking pictures and conducting filming, and (2) the use of the pictures taken and film made.'"
      ]
     },
     "execution_count": 2,
     "metadata": {},
     "output_type": "execute_result"
    }
   ],
   "source": [
    "data['results'][0]['summary']"
   ]
  },
  {
   "cell_type": "code",
   "execution_count": 3,
   "metadata": {},
   "outputs": [],
   "source": [
    "# Read the CSV file into a pandas dataframe\n",
    "dfd = pd.read_csv('bills_database/bills_93-114_dem.csv')\n",
    "dfr = pd.read_csv('bills_database/bills_93-114_rep.csv')\n",
    "minor = pd.read_csv('bills_database/minor.csv', header=None)\n",
    "major = pd.read_csv('bills_database/major.csv')\n",
    "\n",
    "# Create code dictionaries\n",
    "minor[['code', 'description']] = minor[0].str.split(\":\", n=1, expand=True)\n",
    "minor = minor.drop(0, axis=1)\n",
    "minor = minor.set_index('code').to_dict('index')\n",
    "minor = {i:val['description'] for i, val in minor.items()}\n",
    "major = major.set_index('code').to_dict('index')\n",
    "major = {i:val['description'] for i, val in major.items()}\n",
    "\n",
    "# Display the dataframe\n",
    "df = pd.concat([dfd, dfr])\n",
    "\n",
    "# Propublica only has info from congress 113\n",
    "df = df.loc[df['Cong'] >= 113]\n"
   ]
  },
  {
   "cell_type": "code",
   "execution_count": 4,
   "metadata": {},
   "outputs": [],
   "source": [
    "df['idx'] = df['BillType'] + df['BillNum'].astype(str)\n",
    "dict_bills = df.to_dict('records')"
   ]
  },
  {
   "cell_type": "code",
   "execution_count": 5,
   "metadata": {},
   "outputs": [],
   "source": [
    "def mergedicts(dict1, dict2):\n",
    "    '''\n",
    "    Esta funcion ayuda a combinar diccionarios\n",
    "    '''\n",
    "    for k in set(dict1.keys()).union(dict2.keys()):\n",
    "        if k in dict1 and k in dict2:\n",
    "            if isinstance(dict1[k], dict) and isinstance(dict2[k], dict):\n",
    "                yield (k, dict(mergedicts(dict1[k], dict2[k])))\n",
    "            else:\n",
    "                yield (k, dict2[k])\n",
    "        elif k in dict1:\n",
    "            yield (k, dict1[k])\n",
    "        else:\n",
    "            yield (k, dict2[k])\n",
    "\n",
    "final_dta = []\n",
    "error_aux = []\n",
    "error = []\n",
    "\n",
    "for i in dict_bills[:3]:\n",
    "    congress = i['Cong']\n",
    "    bill_id = i['idx']\n",
    "    try:\n",
    "        try:\n",
    "            propublica_data = requests.get(f'{pp_base}{congress}/bills/{bill_id}.json', headers = headers).json()\n",
    "        except: \n",
    "            error.append(tuple(congress, bill_id, False))\n",
    "            continue\n",
    "    except:\n",
    "        time.sleep(75)\n",
    "        try:\n",
    "            propublica_data = requests.get(f'{pp_base}{congress}/bills/{bill_id}.json', headers = headers).json()\n",
    "        except:\n",
    "            error.append(tuple(congress, bill_id, False))\n",
    "            continue\n",
    "    try:\n",
    "        if propublica_data['status'] == 'ERROR': \n",
    "            error.append(tuple(congress, bill_id, True))\n",
    "            continue\n",
    "        data = dict(propublica_data['results'][0])\n",
    "        if data['summary'] == '': continue\n",
    "        data['Major_desc'] = major.get(i['Major'], None)\n",
    "        data['Minor_desc'] = major.get(i['Minor'], None)\n",
    "        final_dta.append(dict(mergedicts(i,data)))\n",
    "    except:\n",
    "        print(propublica_data)\n",
    "        error_aux.append(propublica_data)\n",
    "        continue\n"
   ]
  },
  {
   "cell_type": "code",
   "execution_count": 9,
   "metadata": {},
   "outputs": [],
   "source": [
    "dataf = pd.DataFrame(final_dta)\n",
    "dataf.to_csv('output.csv', index=False)"
   ]
  }
 ],
 "metadata": {
  "kernelspec": {
   "display_name": "Python 3 (ipykernel)",
   "language": "python",
   "name": "python3"
  },
  "language_info": {
   "codemirror_mode": {
    "name": "ipython",
    "version": 3
   },
   "file_extension": ".py",
   "mimetype": "text/x-python",
   "name": "python",
   "nbconvert_exporter": "python",
   "pygments_lexer": "ipython3",
   "version": "3.9.4"
  }
 },
 "nbformat": 4,
 "nbformat_minor": 2
}
