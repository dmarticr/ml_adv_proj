{
 "cells": [
  {
   "cell_type": "code",
   "execution_count": 1,
   "id": "88d016c1",
   "metadata": {},
   "outputs": [],
   "source": [
    "import pandas as pd"
   ]
  },
  {
   "cell_type": "code",
   "execution_count": 2,
   "id": "ee72e711",
   "metadata": {},
   "outputs": [],
   "source": [
    "df = pd.read_pickle(\"data_final.pkl\")"
   ]
  },
  {
   "cell_type": "code",
   "execution_count": 3,
   "id": "1a91742d",
   "metadata": {},
   "outputs": [
    {
     "data": {
      "text/plain": [
       "Index(['cbo_estimate_url', 'senate_passage', 'govtrack_url', 'PLaw',\n",
       "       'subcommittee_codes', 'sponsor_id', 'house_passage_vote', 'NameFirst',\n",
       "       'NameLast', 'congress', 'URL', 'primary_subject', 'Postal',\n",
       "       'withdrawn_cosponsors', 'house_passage', 'ComC', 'sponsor_title',\n",
       "       'ReportH', 'vetoed', 'PLawNum', 'IntrDate', 'number', 'PooleID',\n",
       "       'FrstConS', 'BillID', 'PassH', 'sponsor', 'Major_desc', 'MemberID',\n",
       "       'Cong', 'BillType', 'bill', 'sponsor_party', 'Gender', 'PassS',\n",
       "       'Private', 'Majority', 'SubChRef', 'bill_id', 'SubRankRef', 'MultNo',\n",
       "       'ChRef', 'State', 'Chamber', 'ReportS', 'committee_codes', 'District',\n",
       "       'presidential_statements', 'Mult', 'versions', 'DW1',\n",
       "       'congressdotgov_url', 'bill_uri', 'cosponsors', 'bill_slug', 'RankRef',\n",
       "       'latest_major_action_date', 'Cosponsr', 'last_vote', 'CumSServ',\n",
       "       'summary', 'sponsor_uri', 'FrstConH', 'enacted', 'senate_passage_vote',\n",
       "       'title', 'actions', 'ComR', 'committees', 'latest_major_action',\n",
       "       'Title', 'Minor_desc', 'MRef', 'introduced_date', 'sponsor_state',\n",
       "       'CumHServ', 'BillNum', 'Class', 'idx', 'cosponsors_by_party',\n",
       "       'summary_short', 'PLawDate', 'bill_type', 'active', 'votes',\n",
       "       'short_title', 'Major', 'Delegate', 'ImpBill', 'gpo_pdf_uri', 'Party',\n",
       "       'NameFull', 'Minor', 'Veto'],\n",
       "      dtype='object')"
      ]
     },
     "execution_count": 3,
     "metadata": {},
     "output_type": "execute_result"
    }
   ],
   "source": [
    "df.columns"
   ]
  },
  {
   "cell_type": "code",
   "execution_count": 16,
   "id": "bc6bcfb9",
   "metadata": {},
   "outputs": [
    {
     "data": {
      "text/plain": [
       "0.0    18343\n",
       "1.0     4270\n",
       "Name: Mult, dtype: int64"
      ]
     },
     "execution_count": 16,
     "metadata": {},
     "output_type": "execute_result"
    }
   ],
   "source": [
    "df['Mult'].value_counts()"
   ]
  },
  {
   "cell_type": "code",
   "execution_count": 11,
   "id": "499e60ef",
   "metadata": {},
   "outputs": [
    {
     "data": {
      "text/plain": [
       "0    21997\n",
       "1      623\n",
       "Name: PLaw, dtype: int64"
      ]
     },
     "execution_count": 11,
     "metadata": {},
     "output_type": "execute_result"
    }
   ],
   "source": [
    "df['PLaw'].value_counts()"
   ]
  },
  {
   "cell_type": "code",
   "execution_count": 9,
   "id": "68d06910",
   "metadata": {},
   "outputs": [
    {
     "data": {
      "text/plain": [
       "717"
      ]
     },
     "execution_count": 9,
     "metadata": {},
     "output_type": "execute_result"
    }
   ],
   "source": [
    "len(df.loc[(df['PassH'] == 1) & (df['PassS'] == 1)])"
   ]
  },
  {
   "cell_type": "code",
   "execution_count": 18,
   "id": "0d14fbea",
   "metadata": {},
   "outputs": [
    {
     "data": {
      "text/plain": [
       "0        TX\n",
       "1        MN\n",
       "2        OH\n",
       "3        CA\n",
       "4        TX\n",
       "         ..\n",
       "22615    IN\n",
       "22616    TN\n",
       "22617    ME\n",
       "22618    IA\n",
       "22619    KY\n",
       "Name: sponsor_state, Length: 22620, dtype: object"
      ]
     },
     "execution_count": 18,
     "metadata": {},
     "output_type": "execute_result"
    }
   ],
   "source": [
    "df['sponsor_state']"
   ]
  },
  {
   "cell_type": "code",
   "execution_count": null,
   "id": "03075a11",
   "metadata": {},
   "outputs": [],
   "source": []
  }
 ],
 "metadata": {
  "kernelspec": {
   "display_name": "Python 3 (ipykernel)",
   "language": "python",
   "name": "python3"
  },
  "language_info": {
   "codemirror_mode": {
    "name": "ipython",
    "version": 3
   },
   "file_extension": ".py",
   "mimetype": "text/x-python",
   "name": "python",
   "nbconvert_exporter": "python",
   "pygments_lexer": "ipython3",
   "version": "3.9.4"
  }
 },
 "nbformat": 4,
 "nbformat_minor": 5
}
